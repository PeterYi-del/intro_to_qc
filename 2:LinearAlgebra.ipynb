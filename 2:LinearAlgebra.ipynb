{
 "cells": [
  {
   "metadata": {},
   "cell_type": "markdown",
   "source": [
    "# 2:Linear Algebra\n",
    "\n",
    "### The first Station --- Linear Algebra\n",
    "Welcome! Please feel free to take a seat.  \n",
    "\n",
    "In this section, we will introduce some basic information about linear algebra. \n",
    " \n",
    "First, we have to admit that, all quantum computing are base on matrix, so matrix is absolute the most important things in quantum computing, we have to understand what is matrix first.  \n",
    "\n",
    "Second, we will introduce some notations and algorithms which will be used frequently in our later main body of quantum computing.  \n",
    "\n",
    "So sharpening the knife does not make you miss the woodwork, let's begin our adventure together.\n"
   ],
   "id": "d73ae8a2710d7e24"
  },
  {
   "metadata": {},
   "cell_type": "markdown",
   "source": [
    "###### 2.1 Vector\n",
    "Before we step into matrix, the biggest problem we have to face is------What makes up matrix?\n",
    "\n",
    "Some of you may say, you must be joking, all of us knows that numbers makes up matrix.\n",
    "  \n",
    "Woooo, take it easy, indeed numbers makes up matrix, that's true, but please think deeper, what if we divide the matrix into parts? You may already know the answer, a small matrix, that's right! You now warm up. But what if we divide it by rows and columns?  \n",
    "\n",
    "Yeah, you are right, the vectors! Congrats!"
   ],
   "id": "ff462299dc7c8c1"
  },
  {
   "metadata": {},
   "cell_type": "markdown",
   "source": "Let's start with a small example:",
   "id": "9c67bf203cb799b7"
  },
  {
   "metadata": {
    "ExecuteTime": {
     "end_time": "2024-06-02T13:46:16.706925Z",
     "start_time": "2024-06-02T13:46:16.519594Z"
    }
   },
   "cell_type": "code",
   "source": "import numpy as np",
   "id": "26d5f6f7710c113e",
   "outputs": [],
   "execution_count": 1
  },
  {
   "metadata": {
    "ExecuteTime": {
     "end_time": "2024-06-02T13:46:19.455384Z",
     "start_time": "2024-06-02T13:46:19.450658Z"
    }
   },
   "cell_type": "code",
   "source": [
    "a = np.array([[1,2,3]])\n",
    "print(\"a row vector:\\n\", a)\n",
    "b = a.transpose()\n",
    "print(\"b column vector:\\n\", b)"
   ],
   "id": "994b4ebdf2681697",
   "outputs": [
    {
     "name": "stdout",
     "output_type": "stream",
     "text": [
      "a row vector:\n",
      " [[1 2 3]]\n",
      "b column vector:\n",
      " [[1]\n",
      " [2]\n",
      " [3]]\n"
     ]
    }
   ],
   "execution_count": 2
  },
  {
   "metadata": {},
   "cell_type": "markdown",
   "source": [
    "You will see a vector contains three elements, *a* is called row vector, *b* is called column vector. The only different between *a* and *b* is the position of the elements.  \n",
    "\n",
    "In linear algebra, the concept of a vector has been abstracted, we are no longer limited to directions, we are transformed to think about more general states, and as you can see, a representation in the shape of a(a1,a2,...,an) is a vector."
   ],
   "id": "c1f66775fb3dbb02"
  },
  {
   "metadata": {},
   "cell_type": "markdown",
   "source": [
    "###### 2.2 Matrix\n",
    "\n",
    "Well down, We got vectors!  \n",
    "\n",
    "The Next step, We combine the vectors, arranging them layer by layer like spreading jam, and in this way we get the most basic, and most important, element of quantum computing------the matrix\n",
    "\n",
    "You may have a little bit confused. How to describe a matrix?  \n",
    "\n",
    "Nice question! For example, the matrix below, which is c, has three blocks; each block has three numbers, so we call c the $3 \\times 3$ matrix. The first three represent how many rows in this matrix, and the second three represent haw many columns in this matrix.  \n",
    "\n",
    "So when you meet a matrix X, which is $m \\times n$, that means X has m rows and n columns."
   ],
   "id": "429c9dcd597062af"
  },
  {
   "metadata": {
    "ExecuteTime": {
     "end_time": "2024-06-02T13:46:24.360454Z",
     "start_time": "2024-06-02T13:46:24.358024Z"
    }
   },
   "cell_type": "code",
   "source": [
    "c = np.array([[1,2,3],[4,5,6],[7,8,9]])\n",
    "print(\"c the matrix:\\n\", c)"
   ],
   "id": "9cd72d736d809bb1",
   "outputs": [
    {
     "name": "stdout",
     "output_type": "stream",
     "text": [
      "c the matrix:\n",
      " [[1 2 3]\n",
      " [4 5 6]\n",
      " [7 8 9]]\n"
     ]
    }
   ],
   "execution_count": 3
  },
  {
   "metadata": {},
   "cell_type": "markdown",
   "source": [
    "###### 2.3 Matrix Computing Methods\n",
    "\n",
    "All right, we've made good friends with vectors and matrices, and the next thing we need to know is how these friends of ours do their calculations."
   ],
   "id": "ea5a2b8ae4f8589a"
  },
  {
   "metadata": {},
   "cell_type": "markdown",
   "source": [
    "2.3.1 Matrix multiplication\n",
    "\n",
    "In this section, we will meet some mathematics formulas, but don't worry, they won't hurt you. You got me. The first thing we need to understand is that how two matrixes do multiplication? You may say just like the real number. This is a good answer, but not correct. Indeed, some parts of multiplication can be described like real number, but not all of them. We use the formula below to calculate the multiplication of matrixes:  \n",
    "\n",
    "Prerequisite: A is a matrix which is $n \\times m$, B is another matrix which is $m \\times p$  \n",
    "\n",
    "The formula: $$C_i_j = (AB)_i_j = a_i_1b_1_j + a_i_2b_2_j + ... + a_i_nb_n_j = \\sum_{k = 1}^{n}a_i_kb_b_j$$  \n",
    "\n",
    "We have to admit one thing that is only the number of first matrix's columns equal the number of second matrix's rows then these two matrixes can multiply.\n"
   ],
   "id": "6d2959e14d6e96c2"
  },
  {
   "metadata": {
    "ExecuteTime": {
     "end_time": "2024-06-02T13:46:27.833290Z",
     "start_time": "2024-06-02T13:46:27.829092Z"
    }
   },
   "cell_type": "code",
   "source": [
    "d = np.array([[1,2,3],[4,5,6],[7,8,9]])\n",
    "e = np.array([[10,11,12],[13,14,15],[16,17,18]])\n",
    "print(np.matmul(d, e))"
   ],
   "id": "fe1d83886fbb272e",
   "outputs": [
    {
     "name": "stdout",
     "output_type": "stream",
     "text": [
      "[[ 84  90  96]\n",
      " [201 216 231]\n",
      " [318 342 366]]\n"
     ]
    }
   ],
   "execution_count": 4
  }
 ],
 "metadata": {
  "kernelspec": {
   "display_name": "Python 3",
   "language": "python",
   "name": "python3"
  },
  "language_info": {
   "codemirror_mode": {
    "name": "ipython",
    "version": 2
   },
   "file_extension": ".py",
   "mimetype": "text/x-python",
   "name": "python",
   "nbconvert_exporter": "python",
   "pygments_lexer": "ipython2",
   "version": "2.7.6"
  }
 },
 "nbformat": 4,
 "nbformat_minor": 5
}
