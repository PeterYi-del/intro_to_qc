{
 "cells": [
  {
   "metadata": {},
   "cell_type": "markdown",
   "source": [
    "# 1:Introduction\n",
    "\n",
    "Before we start our trip in quantum computing, let's just slow down and think about two questions\n",
    "----What is quantum? and What is computing?\n",
    "\n",
    "You may say, they are too eazy to you to get the ultimate answers. But don't be HURRY!\n",
    "The first thing you need to understand or need to equip with is you must have curious and the ability to create. Only when you start imagining things, the quantum world will become less complicated for you, and you will acquire real knowledge, but not \"what the test requires.\"\n",
    "\n",
    "In the world of quantum computing, you only need to understand two things ---- what it is and what it can do. It's not complicated, and our journey will start with the simplest symbols, move on to some simple quantum algorithms, then to some simple quantum circuits, and finally we'll work on a little quantum computing project together. (sounds interesting?) Throughout the process we'll be covering a few of the more important python packages which are: tensorflow, pytorch, tensorcircuit, numpy,etc. If anything is unclear, please check the development documentation for these packages.\n",
    "\n",
    "The reference books for this document are Quantum Computation and Quantum Information and Introduction to Quantum Computation and Programming.\n",
    "\n",
    ">\"*Nielsen, M. A., & Chuang, I. L. (2010). Quantum Computation and Quantum Information: 10th Anniversary Edition. Cambridge: Cambridge University Press.*\"\n",
    ">\"*https://quantum-book-by-originq.readthedocs.io/en/latest/index.html*\"\n",
    "\n",
    "To be honest, don't scare by the name \"quantum computing\", it's not that difficult! You may say, I don't have the background of quantum mechanical and mathematics, don't worryyyyy. You only need the knowledge of advanced algebra or linear algebra, if you know some quantum mechanical that's great, but we don't ask everyone as knowledgeable as you. So, let's be easier as we can.\n",
    "\n",
    "If you've read this far, it means you should be interested in quantum computing. Thank you for your time. So Warriors! please get your armour and sword (laptop & draft paper) ready as we head off to a whole new world ----- Welcome to Quantum Computing!\n",
    "\n",
    "I do wish you have fun during this trip!\n",
    "\n",
    "\n",
    "\n",
    "\n",
    "Zhehao(Peter) Yi  \n",
    "South China Agricultural University  \n",
    "2.nd June"
   ],
   "id": "2ec9543f55967caf"
  },
  {
   "metadata": {
    "ExecuteTime": {
     "end_time": "2024-06-02T08:47:18.750523Z",
     "start_time": "2024-06-02T08:47:18.746448Z"
    }
   },
   "cell_type": "code",
   "source": "print(\"Let's go!\")",
   "id": "73cdfb07dcce6b4d",
   "outputs": [
    {
     "name": "stdout",
     "output_type": "stream",
     "text": [
      "Let's go!\n"
     ]
    }
   ],
   "execution_count": 1
  }
 ],
 "metadata": {
  "kernelspec": {
   "display_name": "Python 3",
   "language": "python",
   "name": "python3"
  },
  "language_info": {
   "codemirror_mode": {
    "name": "ipython",
    "version": 2
   },
   "file_extension": ".py",
   "mimetype": "text/x-python",
   "name": "python",
   "nbconvert_exporter": "python",
   "pygments_lexer": "ipython2",
   "version": "2.7.6"
  }
 },
 "nbformat": 4,
 "nbformat_minor": 5
}
