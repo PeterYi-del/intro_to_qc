{
 "cells": [
  {
   "metadata": {},
   "cell_type": "markdown",
   "source": [
    "# 2:Training Ground\n",
    "\n",
    "###### The first Station --- Linear Algebra\n",
    "Welcome!  \n",
    "In this section, we will introduce some basic information about linear algebra. \n",
    " \n",
    "First, we have to admit that, all quantum computing are base on matrix, so matrix is absolute the most important things in quantum computing, we have to understand what is matrix first.  \n",
    "\n",
    "Second, we will introduce some notations and algorithms which will be used frequently in our later main body of quantum computing.  \n",
    "\n",
    "So sharpening the knife does not make you miss the woodwork, let's begin our adventure together.\n"
   ],
   "id": "d73ae8a2710d7e24"
  },
  {
   "metadata": {},
   "cell_type": "markdown",
   "source": [
    "###### 2.1 Vector\n",
    "Before we step into matrix, the biggest problem we have to face is----What "
   ],
   "id": "ff462299dc7c8c1"
  }
 ],
 "metadata": {
  "kernelspec": {
   "display_name": "Python 3",
   "language": "python",
   "name": "python3"
  },
  "language_info": {
   "codemirror_mode": {
    "name": "ipython",
    "version": 2
   },
   "file_extension": ".py",
   "mimetype": "text/x-python",
   "name": "python",
   "nbconvert_exporter": "python",
   "pygments_lexer": "ipython2",
   "version": "2.7.6"
  }
 },
 "nbformat": 4,
 "nbformat_minor": 5
}
