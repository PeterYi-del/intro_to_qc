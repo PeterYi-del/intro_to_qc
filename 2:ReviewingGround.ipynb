{
 "cells": [
  {
   "metadata": {},
   "cell_type": "markdown",
   "source": [
    "# 2:Reviewing Ground\n",
    "\n",
    "###### The first Station --- Linear Algebra\n",
    "Welcome! Please feel free to take a seat.  \n",
    "\n",
    "In this section, we will introduce some basic information about linear algebra. \n",
    " \n",
    "First, we have to admit that, all quantum computing are base on matrix, so matrix is absolute the most important things in quantum computing, we have to understand what is matrix first.  \n",
    "\n",
    "Second, we will introduce some notations and algorithms which will be used frequently in our later main body of quantum computing.  \n",
    "\n",
    "So sharpening the knife does not make you miss the woodwork, let's begin our adventure together.\n"
   ],
   "id": "d73ae8a2710d7e24"
  },
  {
   "metadata": {},
   "cell_type": "markdown",
   "source": [
    "###### 2.1 Vector\n",
    "Before we step into matrix, the biggest problem we have to face is----What makes up matrix?\n",
    "\n",
    "Some of you may say, you must be joking, all of us knows that numbers makes up matrix.\n",
    "  \n",
    "Woooo, take it easy, indeed numbers makes up matrix, that's true, but please think deeper, what if we divide the matrix into parts? You may already know the answer, a small matrix, that's right! You now warm up. But what if we divide it by rows and columns?  \n",
    "\n",
    "Yeah, you are right, the vectors! Congrats!"
   ],
   "id": "ff462299dc7c8c1"
  },
  {
   "metadata": {},
   "cell_type": "markdown",
   "source": "Let's start with a small example:",
   "id": "9c67bf203cb799b7"
  },
  {
   "metadata": {
    "ExecuteTime": {
     "end_time": "2024-06-02T08:11:06.022432Z",
     "start_time": "2024-06-02T08:11:05.929438Z"
    }
   },
   "cell_type": "code",
   "source": "import numpy as np",
   "id": "26d5f6f7710c113e",
   "outputs": [],
   "execution_count": 1
  },
  {
   "metadata": {
    "ExecuteTime": {
     "end_time": "2024-06-02T08:11:09.019305Z",
     "start_time": "2024-06-02T08:11:09.014552Z"
    }
   },
   "cell_type": "code",
   "source": [
    "a = np.array([[1,2,3]])\n",
    "print(\"a row vector:\", a)\n",
    "b = a.transpose()\n",
    "print(\"b column vector:\", b)"
   ],
   "id": "994b4ebdf2681697",
   "outputs": [
    {
     "name": "stdout",
     "output_type": "stream",
     "text": [
      "a row vector: [[1 2 3]]\n",
      "b column vector: [[1]\n",
      " [2]\n",
      " [3]]\n"
     ]
    }
   ],
   "execution_count": 2
  },
  {
   "metadata": {},
   "cell_type": "markdown",
   "source": [
    "You will see a vector contains three elements, *a* is called row vector, *b* is called column vector. The only different between *a* and *b* is the position of the elements.  \n",
    "\n",
    "In linear algebra, the concept of a vector has been abstracted, we are no longer limited to directions, we are transformed to think about more general states, and as you can see, a representation in the shape of a(a1,a2,...,an) is a vector."
   ],
   "id": "c1f66775fb3dbb02"
  },
  {
   "metadata": {},
   "cell_type": "markdown",
   "source": "",
   "id": "429c9dcd597062af"
  }
 ],
 "metadata": {
  "kernelspec": {
   "display_name": "Python 3",
   "language": "python",
   "name": "python3"
  },
  "language_info": {
   "codemirror_mode": {
    "name": "ipython",
    "version": 2
   },
   "file_extension": ".py",
   "mimetype": "text/x-python",
   "name": "python",
   "nbconvert_exporter": "python",
   "pygments_lexer": "ipython2",
   "version": "2.7.6"
  }
 },
 "nbformat": 4,
 "nbformat_minor": 5
}
